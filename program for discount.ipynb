{
 "cells": [
  {
   "cell_type": "code",
   "execution_count": 1,
   "id": "2cb199f0-9f6b-4d7c-a28a-4a133f00b96f",
   "metadata": {},
   "outputs": [
    {
     "name": "stdin",
     "output_type": "stream",
     "text": [
      "Enter the cost of the item:  10000\n",
      "Enter the discount percentage:  20\n"
     ]
    },
    {
     "name": "stdout",
     "output_type": "stream",
     "text": [
      "Discount Amount: #2000.00\n",
      "Final Price after Discount: #8000.00\n"
     ]
    }
   ],
   "source": [
    "def calculate_discount(cost, discount_percentage):\n",
    "    discount_amount = (cost * discount_percentage) / 100\n",
    "    final_price = cost - discount_amount\n",
    "    return discount_amount, final_price\n",
    "\n",
    "# Example usage\n",
    "cost = float(input(\"Enter the cost of the item: \"))\n",
    "discount_percentage = float(input(\"Enter the discount percentage: \"))\n",
    "\n",
    "discount_amount, final_price = calculate_discount(cost, discount_percentage)\n",
    "\n",
    "print(f\"Discount Amount: #{discount_amount:.2f}\")\n",
    "print(f\"Final Price after Discount: #{final_price:.2f}\")"
   ]
  },
  {
   "cell_type": "code",
   "execution_count": null,
   "id": "2adde737-652a-4bb6-a980-c5500cac5199",
   "metadata": {},
   "outputs": [],
   "source": []
  }
 ],
 "metadata": {
  "kernelspec": {
   "display_name": "Python 3 (ipykernel)",
   "language": "python",
   "name": "python3"
  },
  "language_info": {
   "codemirror_mode": {
    "name": "ipython",
    "version": 3
   },
   "file_extension": ".py",
   "mimetype": "text/x-python",
   "name": "python",
   "nbconvert_exporter": "python",
   "pygments_lexer": "ipython3",
   "version": "3.11.7"
  }
 },
 "nbformat": 4,
 "nbformat_minor": 5
}
